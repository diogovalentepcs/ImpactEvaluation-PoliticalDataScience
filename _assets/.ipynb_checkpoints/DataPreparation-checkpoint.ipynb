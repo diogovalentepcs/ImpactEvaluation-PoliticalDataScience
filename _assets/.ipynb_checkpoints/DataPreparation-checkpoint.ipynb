{
 "cells": [
  {
   "cell_type": "code",
   "execution_count": 1,
   "id": "244f43b6",
   "metadata": {},
   "outputs": [],
   "source": [
    "import pandas as pd"
   ]
  },
  {
   "cell_type": "code",
   "execution_count": 2,
   "id": "0970989c",
   "metadata": {},
   "outputs": [
    {
     "data": {
      "text/html": [
       "<div>\n",
       "<style scoped>\n",
       "    .dataframe tbody tr th:only-of-type {\n",
       "        vertical-align: middle;\n",
       "    }\n",
       "\n",
       "    .dataframe tbody tr th {\n",
       "        vertical-align: top;\n",
       "    }\n",
       "\n",
       "    .dataframe thead th {\n",
       "        text-align: right;\n",
       "    }\n",
       "</style>\n",
       "<table border=\"1\" class=\"dataframe\">\n",
       "  <thead>\n",
       "    <tr style=\"text-align: right;\">\n",
       "      <th></th>\n",
       "      <th>FECHA (YYMMDD);HORA (HHMM);Registros validados;Registros preliminares;Registros no validados;</th>\n",
       "    </tr>\n",
       "  </thead>\n",
       "  <tbody>\n",
       "    <tr>\n",
       "      <th>010324;0100;6</th>\n",
       "      <td>3;;;</td>\n",
       "    </tr>\n",
       "    <tr>\n",
       "      <th>010324;0200;6</th>\n",
       "      <td>2;;;</td>\n",
       "    </tr>\n",
       "    <tr>\n",
       "      <th>010324;0300;5;;;</th>\n",
       "      <td>NaN</td>\n",
       "    </tr>\n",
       "    <tr>\n",
       "      <th>010324;0400;5</th>\n",
       "      <td>39999;;;</td>\n",
       "    </tr>\n",
       "    <tr>\n",
       "      <th>010324;0500;5</th>\n",
       "      <td>5;;;</td>\n",
       "    </tr>\n",
       "    <tr>\n",
       "      <th>...</th>\n",
       "      <td>...</td>\n",
       "    </tr>\n",
       "    <tr>\n",
       "      <th>221103;1900;;;0</th>\n",
       "      <td>67;</td>\n",
       "    </tr>\n",
       "    <tr>\n",
       "      <th>221103;2000;;;0</th>\n",
       "      <td>67;</td>\n",
       "    </tr>\n",
       "    <tr>\n",
       "      <th>221103;2100;;;;</th>\n",
       "      <td>NaN</td>\n",
       "    </tr>\n",
       "    <tr>\n",
       "      <th>221103;2200;;;;</th>\n",
       "      <td>NaN</td>\n",
       "    </tr>\n",
       "    <tr>\n",
       "      <th>221103;2300;;;0</th>\n",
       "      <td>68;</td>\n",
       "    </tr>\n",
       "  </tbody>\n",
       "</table>\n",
       "<p>189479 rows × 1 columns</p>\n",
       "</div>"
      ],
      "text/plain": [
       "                 FECHA (YYMMDD);HORA (HHMM);Registros validados;Registros preliminares;Registros no validados;\n",
       "010324;0100;6                                                  3;;;                                           \n",
       "010324;0200;6                                                  2;;;                                           \n",
       "010324;0300;5;;;                                                NaN                                           \n",
       "010324;0400;5                                              39999;;;                                           \n",
       "010324;0500;5                                                  5;;;                                           \n",
       "...                                                             ...                                           \n",
       "221103;1900;;;0                                                 67;                                           \n",
       "221103;2000;;;0                                                 67;                                           \n",
       "221103;2100;;;;                                                 NaN                                           \n",
       "221103;2200;;;;                                                 NaN                                           \n",
       "221103;2300;;;0                                                 68;                                           \n",
       "\n",
       "[189479 rows x 1 columns]"
      ]
     },
     "execution_count": 2,
     "metadata": {},
     "output_type": "execute_result"
    }
   ],
   "source": [
    "df = pd.read_csv('Data/CO_CerroNavia.csv')\n",
    "df"
   ]
  },
  {
   "cell_type": "code",
   "execution_count": 15,
   "id": "10265b21",
   "metadata": {},
   "outputs": [
    {
     "data": {
      "text/plain": [
       "array(['5398', '4316', '6960', ..., '10828', '7348', '3904'], dtype=object)"
      ]
     },
     "execution_count": 15,
     "metadata": {},
     "output_type": "execute_result"
    }
   ],
   "source": []
  },
  {
   "cell_type": "code",
   "execution_count": null,
   "id": "2b507cee",
   "metadata": {},
   "outputs": [],
   "source": []
  }
 ],
 "metadata": {
  "kernelspec": {
   "display_name": "Python 3 (ipykernel)",
   "language": "python",
   "name": "python3"
  },
  "language_info": {
   "codemirror_mode": {
    "name": "ipython",
    "version": 3
   },
   "file_extension": ".py",
   "mimetype": "text/x-python",
   "name": "python",
   "nbconvert_exporter": "python",
   "pygments_lexer": "ipython3",
   "version": "3.8.9"
  }
 },
 "nbformat": 4,
 "nbformat_minor": 5
}
